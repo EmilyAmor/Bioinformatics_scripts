{
 "cells": [
  {
   "cell_type": "code",
   "execution_count": 34,
   "metadata": {},
   "outputs": [
    {
     "ename": "KeyError",
     "evalue": "1",
     "output_type": "error",
     "traceback": [
      "\u001b[0;31m---------------------------------------------------------------------------\u001b[0m",
      "\u001b[0;31mKeyError\u001b[0m                                  Traceback (most recent call last)",
      "\u001b[0;32m<ipython-input-34-0de6b5b944f5>\u001b[0m in \u001b[0;36m<module>\u001b[0;34m()\u001b[0m\n\u001b[1;32m      1\u001b[0m \u001b[0;32mfrom\u001b[0m \u001b[0mBio\u001b[0m \u001b[0;32mimport\u001b[0m \u001b[0mSeqIO\u001b[0m\u001b[0;34m\u001b[0m\u001b[0m\n\u001b[1;32m      2\u001b[0m \u001b[0mseq_dict\u001b[0m \u001b[0;34m=\u001b[0m \u001b[0;34m{\u001b[0m\u001b[0mrec\u001b[0m\u001b[0;34m.\u001b[0m\u001b[0mid\u001b[0m \u001b[0;34m:\u001b[0m \u001b[0mrec\u001b[0m\u001b[0;34m.\u001b[0m\u001b[0mseq\u001b[0m \u001b[0;32mfor\u001b[0m \u001b[0mrec\u001b[0m \u001b[0;32min\u001b[0m \u001b[0mSeqIO\u001b[0m\u001b[0;34m.\u001b[0m\u001b[0mparse\u001b[0m\u001b[0;34m(\u001b[0m\u001b[0;34m\"trinity.fa\"\u001b[0m\u001b[0;34m,\u001b[0m \u001b[0;34m\"fasta\"\u001b[0m\u001b[0;34m)\u001b[0m\u001b[0;34m}\u001b[0m\u001b[0;34m\u001b[0m\u001b[0m\n\u001b[0;32m----> 3\u001b[0;31m \u001b[0mprint\u001b[0m \u001b[0;34m(\u001b[0m\u001b[0mseq_dict\u001b[0m\u001b[0;34m[\u001b[0m\u001b[0;36m1\u001b[0m\u001b[0;34m]\u001b[0m\u001b[0;34m)\u001b[0m\u001b[0;34m\u001b[0m\u001b[0m\n\u001b[0m",
      "\u001b[0;31mKeyError\u001b[0m: 1"
     ]
    }
   ],
   "source": [
    "from Bio import SeqIO\n",
    "seq_dict = {rec.id : rec.seq for rec in SeqIO.parse(\"trinity.fa\", \"fasta\")}\n",
    "print (seq_dict[1])"
   ]
  },
  {
   "cell_type": "code",
   "execution_count": 42,
   "metadata": {},
   "outputs": [
    {
     "name": "stdout",
     "output_type": "stream",
     "text": [
      "{'TRINITY_DN27168_c0_g1_i12': 984, 'TRINITY_DN27168_c0_g2_i1': 287, 'TRINITY_DN27168_c0_g1_i13': 1686}\n"
     ]
    }
   ],
   "source": [
    "count_dict = {}\n",
    "\n",
    "for id in seq_dict:\n",
    "    #print (id)\n",
    "    count_dict[id] = len(seq_dict[id])\n",
    "    #print (len(seq_dict[id]))\n",
    "print (count_dict)\n",
    "    \n",
    "    \n",
    "    "
   ]
  },
  {
   "cell_type": "code",
   "execution_count": 53,
   "metadata": {},
   "outputs": [
    {
     "name": "stdout",
     "output_type": "stream",
     "text": [
      "up to 1000 bp: 2\n",
      "1000 - 5000 bp: 1\n",
      "5000 - 10 000 bp: 0\n",
      "10 000 - 20 000 bp: 0\n",
      "20 000 - 50 000 bp: 0\n",
      "50 000 - 100 000 bp: 0\n",
      "larger than 100 000 bp: 0\n"
     ]
    }
   ],
   "source": [
    "up_to_1000bp = 0\n",
    "up_to_5000bp = 0\n",
    "ten_thousand = 0\n",
    "twenty_thousand = 0\n",
    "fifty_thousand = 0\n",
    "hundred_thousand_and_larger = 0\n",
    "larger_than_100000 = 0\n",
    "\n",
    "for id in count_dict:\n",
    "    if count_dict[id] <= 1000:\n",
    "        up_to_1000bp += 1\n",
    "    elif 1000 < count_dict[id] <= 5000:\n",
    "        up_to_5000bp += 1\n",
    "    elif 5000 < count_dict[id] <= 10000:\n",
    "        ten_thousand += 1\n",
    "    elif 10000 < count_dict[id] <= 20000:\n",
    "        twenty_thousand += 1\n",
    "    elif 20000 < count_dict[id] <= 50000:\n",
    "        fifty_thousand += 1\n",
    "    elif 50000 < count_dict[id] <= 100000:\n",
    "        hundred_thousand_and_larger += 1\n",
    "    elif 100000 < count_dict[id]:\n",
    "        larger_than_100000 += 1\n",
    "    \n",
    "print (\"up to 1000 bp:\", up_to_1000bp)\n",
    "print (\"1000 - 5000 bp:\", up_to_5000bp)\n",
    "print (\"5000 - 10 000 bp:\", ten_thousand)\n",
    "print (\"10 000 - 20 000 bp:\", twenty_thousand)\n",
    "print (\"20 000 - 50 000 bp:\", fifty_thousand)\n",
    "print (\"50 000 - 100 000 bp:\", hundred_thousand_and_larger)\n",
    "print (\"larger than 100 000 bp:\", larger_than_100000)"
   ]
  },
  {
   "cell_type": "code",
   "execution_count": 56,
   "metadata": {},
   "outputs": [
    {
     "ename": "SyntaxError",
     "evalue": "invalid syntax (<ipython-input-56-1db83a13ff03>, line 2)",
     "output_type": "error",
     "traceback": [
      "\u001b[0;36m  File \u001b[0;32m\"<ipython-input-56-1db83a13ff03>\"\u001b[0;36m, line \u001b[0;32m2\u001b[0m\n\u001b[0;31m    output_file.write (\"up to 1000 bp:\" up_to_1000bp)\u001b[0m\n\u001b[0m                                                   ^\u001b[0m\n\u001b[0;31mSyntaxError\u001b[0m\u001b[0;31m:\u001b[0m invalid syntax\n"
     ]
    }
   ],
   "source": [
    "output_file = open('contig_counts', 'w') # change 'sequence_new.fq' to the name you want for your new fastq file\n",
    "output_file.write (\"up to 1000 bp:\", up_to_1000bp)\n",
    "output_file.write(\"1000 - 5000 bp:\", up_to_5000bp)\n",
    "output_file.write(\"5000 - 10 000 bp:\", ten_thousand)\n",
    "output_file.write(\"10 000 - 20 000 bp:\", twenty_thousand)\n",
    "output_file.write(\"20 000 - 50 000 bp:\", fifty_thousand)\n",
    "output_file.write(\"50 000 - 100 000 bp:\", hundred_thousand_and_larger)\n",
    "output_file.write(\"larger than 100 000 bp:\", larger_than_100000)\n",
    "output_file.close()"
   ]
  },
  {
   "cell_type": "code",
   "execution_count": null,
   "metadata": {
    "collapsed": true
   },
   "outputs": [],
   "source": []
  }
 ],
 "metadata": {
  "kernelspec": {
   "display_name": "Python 3",
   "language": "python",
   "name": "python3"
  },
  "language_info": {
   "codemirror_mode": {
    "name": "ipython",
    "version": 3
   },
   "file_extension": ".py",
   "mimetype": "text/x-python",
   "name": "python",
   "nbconvert_exporter": "python",
   "pygments_lexer": "ipython3",
   "version": "3.6.1"
  }
 },
 "nbformat": 4,
 "nbformat_minor": 2
}
